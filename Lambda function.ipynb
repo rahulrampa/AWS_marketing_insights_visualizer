{
 "cells": [
  {
   "cell_type": "code",
   "execution_count": null,
   "id": "1f057464",
   "metadata": {},
   "outputs": [],
   "source": [
    "import json\n",
    "from decimal import Decimal\n",
    "import boto3\n",
    "\n",
    "PRODUCT_FILE=\"dataset_amazon-reviews-apple-watch_modified_sample.csv\"\n",
    "\n",
    "# the below function reads in the data and does the required analysis and uploads \n",
    "# it to a dynamodb table\n",
    "\n",
    "def lambda_handler(event, context):\n",
    "    s3=boto3.client(\"s3\")\n",
    "    bucket=\"bigdatatestrevsamp\"\n",
    "    key=PRODUCT_FILE\n",
    "    file=s3.get_object(Bucket=bucket,Key=key)\n",
    "    reviews=str(file['Body'].read())\n",
    "    \n",
    "    reviews_list=reviews.split(\"\\\\r\\\\n\")\n",
    "    \n",
    "    comprehend = boto3.client(\"comprehend\")\n",
    "    n=1\n",
    "    dynamodb = boto3.resource('dynamodb')\n",
    "    table = dynamodb.Table('trends_sentiment_phrases')\n",
    "    \n",
    "    for i in reviews_list :\n",
    "        response1 = comprehend.detect_sentiment(Text=i, LanguageCode=\"en\")\n",
    "        response2 = comprehend.detect_key_phrases(Text=i, LanguageCode=\"en\")\n",
    "        n=n+1\n",
    "        key_phrases=[]\n",
    "        \n",
    "        dynamodb = boto3.resource('dynamodb')\n",
    "        table = dynamodb.Table('sentiment_analysis')\n",
    "        s_item = json.loads(json.dumps(response1['SentimentScore']), parse_float=Decimal)\n",
    "        table.put_item(\n",
    "            Item={\n",
    "                'review_num': n,\n",
    "                'Review': i,  \n",
    "                'All_Sentiment':str(response1['SentimentScore']),\n",
    "                'Sentiment_Confidence':s_item[response1['Sentiment'].capitalize()],\n",
    "                'Overall_Sentiment':response1['Sentiment'],\n",
    "                'Key_Phrases':str(key_phrases)\n",
    "            })\n",
    "        \n",
    "    return \"Done\"\n",
    "    \n",
    "    \n"
   ]
  }
 ],
 "metadata": {
  "kernelspec": {
   "display_name": "Python 3 (ipykernel)",
   "language": "python",
   "name": "python3"
  },
  "language_info": {
   "codemirror_mode": {
    "name": "ipython",
    "version": 3
   },
   "file_extension": ".py",
   "mimetype": "text/x-python",
   "name": "python",
   "nbconvert_exporter": "python",
   "pygments_lexer": "ipython3",
   "version": "3.9.12"
  }
 },
 "nbformat": 4,
 "nbformat_minor": 5
}
